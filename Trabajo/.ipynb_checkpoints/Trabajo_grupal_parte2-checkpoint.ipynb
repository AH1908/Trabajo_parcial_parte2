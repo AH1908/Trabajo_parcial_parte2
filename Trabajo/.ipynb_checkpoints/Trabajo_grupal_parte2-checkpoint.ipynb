{
 "cells": [
  {
   "cell_type": "code",
   "execution_count": 14,
   "id": "52ac0237-7da7-4757-bf17-b393aae1b4a9",
   "metadata": {},
   "outputs": [],
   "source": [
    "import re\n",
    "\n",
    "# Leyendo el archivo\n",
    "data = \"gene.fna\"\n",
    "\n",
    "# Abriendo archivo \n",
    "with open(data,\"r\") as datos:\n",
    "    linea = datos.read()\n",
    "\n",
    "total = ''.join(linea.split('\\n')[1:])"
   ]
  },
  {
   "cell_type": "markdown",
   "id": "0f6082bb",
   "metadata": {},
   "source": [
    "### Pregunta b\n",
    "Tomando secuencias de tres nucleóticos de ventana determine el número de CCG o\n",
    "GCC que se encuentran en la secuencia.\n"
   ]
  },
  {
   "cell_type": "code",
   "execution_count": 13,
   "id": "e3b5dcdf",
   "metadata": {},
   "outputs": [
    {
     "name": "stdout",
     "output_type": "stream",
     "text": [
      "Cantidad de coincidencias para 'GCC': 1394\n",
      "Cantidad de coincidencias para 'CCG': 334\n",
      "Cantidad total de coincidencias para 'CCG' o 'GCC': 1728\n"
     ]
    }
   ],
   "source": [
    "\n",
    "# Esta línea busca todas las ocurrencias del patrón \"GCC\" en la cadena total. \n",
    "dataG= re.findall(r\"(?=(GCC))\",total)\n",
    "\n",
    "# Esta línea busca todas las ocurrencias del patrón \"CCG\" en la cadena total. \n",
    "dataC = re.findall(r\"(?=(CCG))\",total)\n",
    "\n",
    "# Esta línea busca todas las ocurrencias de los patrones \"CCG\" o \"GCC\" en la cadena total. \n",
    "data1 = re.findall(r\"(?=(CCG|GCC))\",total)\n",
    "\n",
    "print(\"Cantidad de coincidencias para 'GCC':\", len(dataG))\n",
    "print(\"Cantidad de coincidencias para 'CCG':\", len(dataC))\n",
    "print(\"Cantidad total de coincidencias para 'CCG' o 'GCC':\", len(data1))"
   ]
  },
  {
   "cell_type": "markdown",
   "id": "2c62c21d-1f92-470b-8dce-a5bb168ad797",
   "metadata": {},
   "source": [
    "### Pregunta c\n",
    "Buscar y contar las secuencias: GAATTC"
   ]
  },
  {
   "cell_type": "code",
   "execution_count": 18,
   "id": "3fc78bc1-e5f8-43c1-bc59-25ef7fa761a5",
   "metadata": {},
   "outputs": [
    {
     "name": "stdout",
     "output_type": "stream",
     "text": [
      "Cantidad de ocurrencias de la secuencia GAATTC: 32\n"
     ]
    }
   ],
   "source": [
    "\n",
    "# Utilizar una expresión regular para buscar todas las similitudes de la secuencia\n",
    "similar = re.findall(r\"(?=(GAATTC))\", total)\n",
    "\n",
    "# Contar la cantidad de ocurrencias encontradas\n",
    "cantidad = len(similar)\n",
    "\n",
    "print(\"Cantidad de ocurrencias de la secuencia GAATTC:\", cantidad)\n"
   ]
  },
  {
   "cell_type": "code",
   "execution_count": null,
   "id": "d54a48ec",
   "metadata": {},
   "outputs": [],
   "source": [
    "\n",
    "import requests\n",
    "\n",
    "def descargar_archivo(url, nombre_archivo):\n",
    "    try:\n",
    "        # Realizar la solicitud GET para descargar el archivo\n",
    "        response = requests.get(url)\n",
    "        \n",
    "        # Verificar si la solicitud fue exitosa (código de estado 200)\n",
    "        if response.status_code == 200:\n",
    "            # Abrir el archivo en modo binario y escribir los datos de la respuesta\n",
    "            with open(nombre_archivo, 'wb') as archivo:\n",
    "                archivo.write(response.content)\n",
    "            print(f\"¡Archivo '{nombre_archivo}' descargado exitosamente!\")\n",
    "        else:\n",
    "            print(f\"Error al descargar el archivo. Código de estado: {response.status_code}\")\n",
    "    except Exception as e:\n",
    "        print(f\"Error durante la descarga del archivo: {e}\")\n",
    "\n",
    "# URL del archivo a descargar\n",
    "url_archivo = \"https://example.com/ejemplo_archivo.zip\"\n",
    "\n",
    "# Nombre con el que se guardará el archivo descargado\n",
    "nombre_archivo = \"archivo_descargado.zip\"\n",
    "\n",
    "# Llamar a la función para descargar el archivo\n",
    "descargar_archivo(url_archivo, nombre_archivo)\n"
   ]
  },
  {
   "cell_type": "code",
   "execution_count": null,
   "id": "2c9fd78c",
   "metadata": {},
   "outputs": [],
   "source": []
  }
 ],
 "metadata": {
  "kernelspec": {
   "display_name": "Python 3 (ipykernel)",
   "language": "python",
   "name": "python3"
  },
  "language_info": {
   "codemirror_mode": {
    "name": "ipython",
    "version": 3
   },
   "file_extension": ".py",
   "mimetype": "text/x-python",
   "name": "python",
   "nbconvert_exporter": "python",
   "pygments_lexer": "ipython3",
   "version": "3.11.5"
  }
 },
 "nbformat": 4,
 "nbformat_minor": 5
}
