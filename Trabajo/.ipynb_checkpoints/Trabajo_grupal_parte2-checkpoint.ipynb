{
 "cells": [
  {
   "cell_type": "markdown",
   "id": "661f7525",
   "metadata": {},
   "source": [
    "## Pregunta b\n",
    "Tomando secuencias de tres nucleóticos de ventana determine el número de CCG o GCC que se encuentran en la secuencia.\n"
   ]
  },
  {
   "cell_type": "code",
   "execution_count": null,
   "id": "422fae42",
   "metadata": {},
   "outputs": [],
   "source": []
  }
 ],
 "metadata": {
  "kernelspec": {
   "display_name": "Python 3 (ipykernel)",
   "language": "python",
   "name": "python3"
  },
  "language_info": {
   "codemirror_mode": {
    "name": "ipython",
    "version": 3
   },
   "file_extension": ".py",
   "mimetype": "text/x-python",
   "name": "python",
   "nbconvert_exporter": "python",
   "pygments_lexer": "ipython3",
   "version": "3.11.5"
  }
 },
 "nbformat": 4,
 "nbformat_minor": 5
}
