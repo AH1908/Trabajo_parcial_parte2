{
 "cells": [
  {
   "cell_type": "code",
   "execution_count": 4,
   "id": "23510d91-ed3b-468f-9ef5-80f64de68d5f",
   "metadata": {},
   "outputs": [
    {
     "name": "stdout",
     "output_type": "stream",
     "text": [
      "Collecting biopython\n",
      "  Obtaining dependency information for biopython from https://files.pythonhosted.org/packages/b8/c8/18570a63e8b6fe99a856698d500fb326f0ce247d2b70d8d631d4abcb5c9c/biopython-1.83-cp311-cp311-win_amd64.whl.metadata\n",
      "  Downloading biopython-1.83-cp311-cp311-win_amd64.whl.metadata (13 kB)\n",
      "Requirement already satisfied: numpy in c:\\users\\mandu\\anaconda3\\lib\\site-packages (from biopython) (1.24.3)\n",
      "Downloading biopython-1.83-cp311-cp311-win_amd64.whl (2.7 MB)\n",
      "   ---------------------------------------- 0.0/2.7 MB ? eta -:--:--\n",
      "   -- ------------------------------------- 0.1/2.7 MB 4.3 MB/s eta 0:00:01\n",
      "   ---- ----------------------------------- 0.3/2.7 MB 3.4 MB/s eta 0:00:01\n",
      "   ----- ---------------------------------- 0.4/2.7 MB 3.2 MB/s eta 0:00:01\n",
      "   ------ --------------------------------- 0.5/2.7 MB 3.0 MB/s eta 0:00:01\n",
      "   -------- ------------------------------- 0.6/2.7 MB 2.7 MB/s eta 0:00:01\n",
      "   --------- ------------------------------ 0.7/2.7 MB 2.8 MB/s eta 0:00:01\n",
      "   ----------- ---------------------------- 0.8/2.7 MB 2.7 MB/s eta 0:00:01\n",
      "   ------------- -------------------------- 0.9/2.7 MB 2.7 MB/s eta 0:00:01\n",
      "   -------------- ------------------------- 1.0/2.7 MB 2.7 MB/s eta 0:00:01\n",
      "   ---------------- ----------------------- 1.1/2.7 MB 2.7 MB/s eta 0:00:01\n",
      "   ----------------- ---------------------- 1.2/2.7 MB 2.6 MB/s eta 0:00:01\n",
      "   ------------------ --------------------- 1.3/2.7 MB 2.6 MB/s eta 0:00:01\n",
      "   -------------------- ------------------- 1.4/2.7 MB 2.6 MB/s eta 0:00:01\n",
      "   --------------------- ------------------ 1.5/2.7 MB 2.6 MB/s eta 0:00:01\n",
      "   ---------------------- ----------------- 1.6/2.7 MB 2.6 MB/s eta 0:00:01\n",
      "   ------------------------ --------------- 1.7/2.7 MB 2.6 MB/s eta 0:00:01\n",
      "   ------------------------- -------------- 1.7/2.7 MB 2.6 MB/s eta 0:00:01\n",
      "   --------------------------- ------------ 1.8/2.7 MB 2.6 MB/s eta 0:00:01\n",
      "   ----------------------------- ---------- 2.0/2.7 MB 2.6 MB/s eta 0:00:01\n",
      "   ----------------------------- ---------- 2.0/2.7 MB 2.5 MB/s eta 0:00:01\n",
      "   -------------------------------- ------- 2.2/2.7 MB 2.5 MB/s eta 0:00:01\n",
      "   --------------------------------- ------ 2.3/2.7 MB 2.5 MB/s eta 0:00:01\n",
      "   ----------------------------------- ---- 2.4/2.7 MB 2.5 MB/s eta 0:00:01\n",
      "   ------------------------------------ --- 2.5/2.7 MB 2.5 MB/s eta 0:00:01\n",
      "   ------------------------------------- -- 2.6/2.7 MB 2.5 MB/s eta 0:00:01\n",
      "   -------------------------------------- - 2.6/2.7 MB 2.5 MB/s eta 0:00:01\n",
      "   ---------------------------------------  2.7/2.7 MB 2.5 MB/s eta 0:00:01\n",
      "   ---------------------------------------- 2.7/2.7 MB 2.5 MB/s eta 0:00:00\n",
      "Installing collected packages: biopython\n",
      "Successfully installed biopython-1.83\n"
     ]
    }
   ],
   "source": [
    "!pip install biopython"
   ]
  },
  {
   "cell_type": "code",
   "execution_count": 4,
   "id": "c5f345a2-2f5b-4a35-9dc2-25cd4f1d9eeb",
   "metadata": {},
   "outputs": [],
   "source": [
    "# Importar las bibliotecas necesarias\n",
    "from Bio import SeqIO\n",
    "import pandas as pd\n",
    "import re"
   ]
  },
  {
   "cell_type": "code",
   "execution_count": 1,
   "id": "d3eea897-6a4a-42da-9029-e53a48fc8358",
   "metadata": {},
   "outputs": [],
   "source": [
    "# Reemplaza 'gene.fna' con la ruta a tu archivo .fna\n",
    "data = 'gene.fna'"
   ]
  },
  {
   "cell_type": "code",
   "execution_count": 24,
   "id": "d4c2ddec-bc05-486c-9c7b-85566438386c",
   "metadata": {
    "scrolled": false
   },
   "outputs": [
    {
     "name": "stdout",
     "output_type": "stream",
     "text": [
      "                                  ID  \\\n",
      "0  NC_000005.10:c149551439-149492982   \n",
      "1   NC_060929.1:c150086185-150027795   \n",
      "\n",
      "                                            Sequence  \n",
      "0  CCCAGAGTGCTCTGCGCCGTGAAGAAGCGGCTCCCGGGGACTGGGG...  \n",
      "1  CCCAGAGTGCTCTGCGCCGTGAAGAAGCGGCTCCCGGGGACTGGGG...  \n"
     ]
    }
   ],
   "source": [
    "# Leer y almacenar las secuencias en un DataFrame de pandas\n",
    "sequences = []\n",
    "for record in SeqIO.parse(data, \"fasta\"):\n",
    "    sequences.append([record.id, str(record.seq)])\n",
    "\n",
    "df = pd.DataFrame(sequences, columns=[\"ID\", \"Sequence\"])\n",
    "# Mostrar las primeras filas del DataFrame\n",
    "print(df.head())"
   ]
  },
  {
   "cell_type": "markdown",
   "id": "d49c65ad",
   "metadata": {},
   "source": [
    "## Pregunta a\n",
    "El porcentaje de nucleòtidos C o G en toda la secuencia."
   ]
  },
  {
   "cell_type": "code",
   "execution_count": 14,
   "id": "e00678ec",
   "metadata": {},
   "outputs": [],
   "source": [
    "def porcentaje_cg(secuencia):\n",
    "    hallar_cg= re.findall(r'[CG]', secuencia, re.IGNORECASE)\n",
    "    a = len(hallar_cg)\n",
    "    porcentaje_cg = (a / len(secuencia)) * 100\n",
    "    return porcentaje_cg\n"
   ]
  },
  {
   "cell_type": "code",
   "execution_count": 15,
   "id": "119d0cee",
   "metadata": {},
   "outputs": [],
   "source": [
    "with open(data, \"r\") as archivo:\n",
    "    secuencia = archivo.read().strip()"
   ]
  },
  {
   "cell_type": "code",
   "execution_count": 26,
   "id": "9edc3db1",
   "metadata": {},
   "outputs": [
    {
     "name": "stdout",
     "output_type": "stream",
     "text": [
      "El porcentaje de nucleótidos C o G en la secuencia es: 38.66%\n"
     ]
    }
   ],
   "source": [
    "p=porcentaje_cg(secuencia)\n",
    "print(f'El porcentaje de nucleótidos C o G en la secuencia es: {p:.2f}%')"
   ]
  },
  {
   "cell_type": "code",
   "execution_count": 17,
   "id": "700d89d6",
   "metadata": {},
   "outputs": [],
   "source": [
    "# si solo se desea saber el porcentaje de C\n",
    "def porcentaje_c(secuencia_c):\n",
    "    hallar_c= re.findall(r'[C]', secuencia_c, re.IGNORECASE)\n",
    "    a = len(hallar_c)\n",
    "    porcentaje_c = (a / len(secuencia_c)) * 100\n",
    "    return porcentaje_c\n"
   ]
  },
  {
   "cell_type": "code",
   "execution_count": 18,
   "id": "189acaa2",
   "metadata": {},
   "outputs": [],
   "source": [
    "with open(data, \"r\") as archivo:\n",
    "    secuencia_c = archivo.read().strip() \n"
   ]
  },
  {
   "cell_type": "code",
   "execution_count": 19,
   "id": "b02b9fc2",
   "metadata": {},
   "outputs": [
    {
     "name": "stdout",
     "output_type": "stream",
     "text": [
      "El porcentaje de nucleótidos C en la secuencia es: 18.27%\n"
     ]
    }
   ],
   "source": [
    "p_c=porcentaje_c(secuencia_c)\n",
    "print(f'El porcentaje de nucleótidos C en la secuencia es: {p_c:.2f}%')"
   ]
  },
  {
   "cell_type": "code",
   "execution_count": 20,
   "id": "2a96ddd9",
   "metadata": {},
   "outputs": [
    {
     "name": "stdout",
     "output_type": "stream",
     "text": [
      "El porcentaje de nucleótidos C en la secuencia es: 20.39%\n"
     ]
    }
   ],
   "source": [
    "# si solo se desea saber el porcentaje de G\n",
    "def porcentaje_g(secuencia_g):\n",
    "    hallar_g= re.findall(r'[G]', secuencia, re.IGNORECASE)\n",
    "    a = len(hallar_g)\n",
    "    porcentaje_g = (a / len(secuencia_g)) * 100\n",
    "    return porcentaje_g\n",
    "with open(data, \"r\") as archivo:\n",
    "    secuencia_g = archivo.read().strip() \n",
    "p_g=porcentaje_g(secuencia_g)\n",
    "print(f'El porcentaje de nucleótidos C en la secuencia es: {p_g:.2f}%')"
   ]
  },
  {
   "cell_type": "markdown",
   "id": "e7dfb344",
   "metadata": {},
   "source": [
    "## Pregunta b\n",
    "Tomando secuencias de tres nucleóticos de ventana determine el número de CCG o\n",
    "GCC que se encuentran en la secuencia.\n"
   ]
  },
  {
   "cell_type": "code",
   "execution_count": 1,
   "id": "a8adc15a",
   "metadata": {},
   "outputs": [
    {
     "name": "stdout",
     "output_type": "stream",
     "text": [
      "Cantidad de coincidencias para 'GCC': 1394\n",
      "Cantidad de coincidencias para 'CCG': 334\n",
      "Cantidad total de coincidencias para 'CCG' o 'GCC': 1728\n"
     ]
    }
   ],
   "source": [
    "# Leyendo el archivo\n",
    "data = \"gene.fna\"\n",
    "\n",
    "# Abriendo archivo \n",
    "with open(data,\"r\") as datos:\n",
    "    linea = datos.read()\n",
    "\n",
    "total = ''.join(linea.split('\\n')[1:])\n",
    "\n",
    "# Esta línea busca todas las ocurrencias del patrón \"GCC\" en la cadena total. \n",
    "dataG= re.findall(r\"(?=(GCC))\",total)\n",
    "\n",
    "# Esta línea busca todas las ocurrencias del patrón \"CCG\" en la cadena total. \n",
    "dataC = re.findall(r\"(?=(CCG))\",total)\n",
    "\n",
    "# Esta línea busca todas las ocurrencias de los patrones \"CCG\" o \"GCC\" en la cadena total. \n",
    "data1 = re.findall(r\"(?=(CCG|GCC))\",total)\n",
    "\n",
    "print(\"Cantidad de coincidencias para 'GCC':\", len(dataG))\n",
    "print(\"Cantidad de coincidencias para 'CCG':\", len(dataC))\n",
    "print(\"Cantidad total de coincidencias para 'CCG' o 'GCC':\", len(data1))"
   ]
  },
  {
   "cell_type": "markdown",
   "id": "2c62c21d-1f92-470b-8dce-a5bb168ad797",
   "metadata": {},
   "source": [
    "## Pregunta c\n",
    "Buscar y contar las secuencias: GAATTC"
   ]
  },
  {
   "cell_type": "code",
   "execution_count": 2,
   "id": "3fc78bc1-e5f8-43c1-bc59-25ef7fa761a5",
   "metadata": {},
   "outputs": [
    {
     "name": "stdout",
     "output_type": "stream",
     "text": [
      "                                               sequence  GAATTC_count\n",
      "0     CCCAGAGTGCTCTGCGCCGTGAAGAAGCGGCTCCCGGGGACTGGGG...             0\n",
      "1     AGTAACAAGATGGCGTCGTCCGCGGAGTGACAGGGGTCCCTCTGGG...             0\n",
      "2     GCGGTATCGCCGCCCTAGCTCACCGCGCCCCTTTTCCAGCCCGCGA...             0\n",
      "3     GCGGCCGCCGAGAAACAAGTGGCCCAGCCTGGTAACCGCCGAGAAG...             0\n",
      "4     AAAAGAAACCTGACTGAGCGGCGGTGATCAGGTTCCCCTCTGCTGA...             0\n",
      "...                                                 ...           ...\n",
      "1667  ATAGTGAAACCCTGTCTCTACTAAAAATACAAAAATTAGCCGGGTG...             0\n",
      "1668  GCTTTTCAAGAGGCTGAGGCAGAAGAATCGCTTGAACCCGGGAGAT...             0\n",
      "1669  TGCCACTGCACTCCAGCCTGGGCGTTGCAGTGAGACTCCGTCTCAA...             0\n",
      "1670  TCAAAAGGGCACAGGAGCCACTTGAAGGATTATACTTGCTAAATCT...             0\n",
      "1671                                        TAGCAACGTTA             0\n",
      "\n",
      "[1672 rows x 2 columns]\n",
      "Total 'GAATTC' sequences found: 30\n"
     ]
    }
   ],
   "source": [
    "import pandas as pd\n",
    "import re\n",
    "\n",
    "# Función para cargar el archivo y crear el DataFrame desde la segunda línea\n",
    "def load_data(file_path):\n",
    "    with open(file_path, 'r') as file:\n",
    "        lines = file.readlines()[1:]  # Saltar la primera línea si es un encabezado\n",
    "    sequences = [line.strip() for line in lines if line.strip()]  # Remover líneas vacías y espacios\n",
    "    df = pd.DataFrame(sequences, columns=['sequence'])\n",
    "    return df\n",
    "\n",
    "# Función para contar las ocurrencias de \"GAATTC\" en una secuencia de ADN\n",
    "def count_GAATTC(sequence):\n",
    "    return len(re.findall('GAATTC', sequence))\n",
    "\n",
    "# Cargar el DataFrame desde el archivo gene.fna\n",
    "file_path = 'gene.fna'  # Reemplaza esto con la ruta correcta de tu archivo\n",
    "df = load_data(file_path)\n",
    "\n",
    "# Aplicar la función a la columna de secuencias y sumar los resultados\n",
    "df['GAATTC_count'] = df['sequence'].apply(count_GAATTC)\n",
    "total_GAATTC = df['GAATTC_count'].sum()\n",
    "\n",
    "# Mostrar el DataFrame actualizado y el total de secuencias encontradas\n",
    "print(df)\n",
    "print(f\"Total 'GAATTC' sequences found: {total_GAATTC}\")"
   ]
  },
  {
   "cell_type": "markdown",
   "id": "13f5ba7f",
   "metadata": {},
   "source": [
    "## Pregunta d\n",
    "¿Es posible automatizar la descarga del archivo directamente desde Python?¿què librerìas y/o sentencias utilizarìa?. Escriba còdigo para dicha descarga"
   ]
  },
  {
   "cell_type": "markdown",
   "id": "3a2d04b9",
   "metadata": {},
   "source": [
    "Sí, es posible automatizar la descarga de archivos directamente desde Python. Se utilizó la librería `requests` para realizar solicitudes HTTP y descargar archivos. La librería `requests` es muy popular y fácil de usar para este propósito.\n",
    "\n",
    "### Librerías y Sentencias Utilizadas\n",
    "\n",
    "1. **Librerías**:\n",
    "   - `requests`: Para realizar solicitudes HTTP y descargar contenido.\n",
    "   - `os`: Para manejar archivos en el sistema, como eliminar archivos después de combinarlos.\n",
    "\n",
    "2. **Sentencias**:\n",
    "   - `requests.get(url)`: Para realizar una solicitud GET a una URL.\n",
    "   - `response.status_code`: Para verificar el código de estado de la respuesta y asegurar que la solicitud fue exitosa.\n",
    "   - `response.text`: Para obtener el contenido de la respuesta en formato de texto.\n",
    "   - `with open(nombreArchivo, 'w') as archivo`: Para abrir un archivo en modo escritura y guardar el contenido descargado.\n",
    "   - `os.remove(fasta1)`: Para eliminar un archivo del sistema.\n",
    "\n",
    "### Código para la Descarga Automatizada\n",
    "\n",
    "A continuación, se presenta el código que automatiza la descarga de un archivo FASTA desde la base de datos NCBI utilizando la librería `requests`:\n",
    "\n",
    "```python\n",
    "import requests\n",
    "\n",
    "def descargar_fasta(nuccoreId, start, end, strand, nombreArchivo):\n",
    "    \"\"\"\n",
    "    Descarga una secuencia de la base de datos NCBI en formato FASTA.\n",
    "\n",
    "    :param nuccoreId: ID de la secuencia en NCBI.\n",
    "    :param start: Posición inicial de la secuencia.\n",
    "    :param end: Posición final de la secuencia.\n",
    "    :param strand: Cadena de ADN (1 para directa, 2 para complementaria).\n",
    "    :param nombreArchivo: Nombre del archivo donde se guardará la secuencia.\n",
    "    \"\"\"\n",
    "    try:\n",
    "        # Construir la URL para obtener la secuencia en formato FASTA\n",
    "        fastaUrl = f\"https://eutils.ncbi.nlm.nih.gov/entrez/eutils/efetch.fcgi?db=nucleotide&id={nuccoreId}&rettype=fasta&retmode=text&seq_start={start}&seq_stop={end}&strand={strand}\"\n",
    "        \n",
    "        # Realizar la solicitud GET para descargar el archivo FASTA\n",
    "        response = requests.get(fastaUrl)\n",
    "        \n",
    "        # Verificar si la solicitud fue exitosa (código de estado 200)\n",
    "        if response.status_code == 200:\n",
    "            # Guardar el contenido en un archivo FASTA\n",
    "            with open(nombreArchivo, 'w') as archivo:\n",
    "                archivo.write(response.text)\n",
    "            print(f\"¡Archivo '{nombreArchivo}' descargado exitosamente!\")\n",
    "        else:\n",
    "            print(f\"Error al descargar el archivo FASTA. Código de estado: {response.status_code}\")\n",
    "    except Exception as e:\n",
    "        print(f\"Error durante la descarga del archivo FASTA: {e}\")\n",
    "\n",
    "# Ejemplo de uso\n",
    "nuccoreId = \"NC_060929.1\"\n",
    "start = 150027795\n",
    "end = 150086185\n",
    "strand = 1  # 1 para directa, 2 para complementaria\n",
    "nombreArchivo = \"secuenciaDescargada.fasta\"\n",
    "descargar_fasta(nuccoreId, start, end, strand, nombreArchivo)\n",
    "```\n",
    "\n",
    "### Explicación del Código\n",
    "\n",
    "1. **Definición de la Función `descargar_fasta`**:\n",
    "   - La función `descargar_fasta` toma los parámetros necesarios para construir una URL que apunta a la API de NCBI y especifica el rango de bases y la cadena de ADN que se desea descargar.\n",
    "   - Dentro de la función, se construye la URL utilizando los parámetros proporcionados.\n",
    "   - Se realiza una solicitud GET a la URL utilizando `requests.get(fastaUrl)`.\n",
    "   - Si la solicitud es exitosa (`response.status_code == 200`), se guarda el contenido en un archivo con el nombre especificado (`nombreArchivo`).\n",
    "   - Se maneja cualquier excepción que pueda ocurrir durante el proceso de descarga.\n",
    "\n",
    "2. **Uso de la Función**:\n",
    "   - Se proporcionan valores de ejemplo para los parámetros necesarios (`nuccoreId`, `start`, `end`, `strand`, `nombreArchivo`).\n",
    "   - Se llama a la función `descargar_fasta` con estos parámetros para descargar la secuencia y guardarla en un archivo llamado \"secuenciaDescargada.fasta\".\n",
    "\n",
    "Este código puede ser modificado y adaptado para descargar diferentes secuencias cambiando los valores de los parámetros según sea necesario."
   ]
  },
  {
   "cell_type": "markdown",
   "id": "0ba9f7e6",
   "metadata": {},
   "source": [
    "### Usando codigo para descargar el archivo pedido"
   ]
  },
  {
   "cell_type": "code",
   "execution_count": 16,
   "id": "cb6d0e54",
   "metadata": {},
   "outputs": [
    {
     "name": "stdout",
     "output_type": "stream",
     "text": [
      "¡Archivo 'secuenciaDescargada1.fasta' descargado exitosamente!\n",
      "¡Archivo 'secuenciaDescargada2.fasta' descargado exitosamente!\n",
      "¡Archivos 'secuenciaDescargada1.fasta' y 'secuenciaDescargada2.fasta' combinados en 'secuenciasCombinadas.fasta'!\n",
      "Archivos 'secuenciaDescargada1.fasta' y 'secuenciaDescargada2.fasta' eliminados.\n"
     ]
    }
   ],
   "source": [
    "import requests\n",
    "import os\n",
    "\n",
    "def descargar_fasta(nuccoreId, start, end, strand, nombreArchivo):\n",
    "    \"\"\"\n",
    "    :param nuccoreId: ID de la secuencia en NCBI.\n",
    "    :param start: Posición inicial de la secuencia.\n",
    "    :param end: Posición final de la secuencia.\n",
    "    :param strand: Cadena de ADN (1 para directa, 2 para complementaria).\n",
    "    :param nombreArchivo: Nombre del archivo donde se guardará la secuencia.\n",
    "    \"\"\"\n",
    "    try:\n",
    "        # Construir la URL para obtener la secuencia en formato FASTA\n",
    "        fastaUrl = f\"https://eutils.ncbi.nlm.nih.gov/entrez/eutils/efetch.fcgi?db=nucleotide&id={nuccoreId}&rettype=fasta&retmode=text&seq_start={start}&seq_stop={end}&strand={strand}\"\n",
    "        \n",
    "        # Realizar la solicitud GET para descargar el archivo FASTA\n",
    "        response = requests.get(fastaUrl)\n",
    "        \n",
    "        # Verificar si la solicitud fue exitosa (código de estado 200)\n",
    "        if response.status_code == 200:\n",
    "            # Guardar el contenido en un archivo FASTA\n",
    "            with open(nombreArchivo, 'w') as archivo:\n",
    "                archivo.write(response.text)\n",
    "            print(f\"¡Archivo '{nombreArchivo}' descargado exitosamente!\")\n",
    "        else:\n",
    "            print(f\"Error al descargar el archivo FASTA. Código de estado: {response.status_code}\")\n",
    "    except Exception as e:\n",
    "        print(f\"Error durante la descarga del archivo FASTA: {e}\")\n",
    "\n",
    "def combinar_archivos(fasta1, fasta2, archivoCombinado):\n",
    "    \"\"\"\n",
    "    Combina dos archivos FASTA en uno solo y elimina los archivos originales.\n",
    "\n",
    "    :param fasta1: Nombre del primer archivo FASTA.\n",
    "    :param fasta2: Nombre del segundo archivo FASTA.\n",
    "    :param archivoCombinado: Nombre del archivo combinado.\n",
    "    \"\"\"\n",
    "    try:\n",
    "        # Leer el contenido del primer archivo FASTA\n",
    "        with open(fasta1, 'r') as archivo1:\n",
    "            contenidoFasta1 = archivo1.read()\n",
    "\n",
    "        # Leer el contenido del segundo archivo FASTA\n",
    "        with open(fasta2, 'r') as archivo2:\n",
    "            contenidoFasta2 = archivo2.read()\n",
    "\n",
    "        # Escribir ambos contenidos en el archivo combinado\n",
    "        with open(archivoCombinado, 'w') as archivo:\n",
    "            archivo.write(contenidoFasta1)\n",
    "            archivo.write('\\n')  # Agregar una línea en blanco entre las secuencias\n",
    "            archivo.write(contenidoFasta2)\n",
    "\n",
    "        print(f\"¡Archivos '{fasta1}' y '{fasta2}' combinados en '{archivoCombinado}'!\")\n",
    "\n",
    "        # Eliminar los archivos originales\n",
    "        os.remove(fasta1)\n",
    "        os.remove(fasta2)\n",
    "\n",
    "        print(f\"Archivos '{fasta1}' y '{fasta2}' eliminados.\")\n",
    "    except Exception as e:\n",
    "        print(f\"Error al combinar los archivos: {e}\")\n",
    "\n",
    "# Descargar la primera secuencia\n",
    "nuccoreId1 = \"NC_060929.1\"\n",
    "start1 = 150027795\n",
    "end1 = 150086185\n",
    "strand1 = 1  # 1 para directa, 2 para complementaria\n",
    "nombreArchivo1 = \"secuenciaDescargada1.fasta\"\n",
    "descargar_fasta(nuccoreId1, start1, end1, strand1, nombreArchivo1)\n",
    "\n",
    "# Descargar la segunda secuencia\n",
    "nuccoreId2 = \"NC_000005.10\"\n",
    "start2 = 149492982\n",
    "end2 = 149551439\n",
    "strand2 = 1  # 1 para directa, 2 para complementaria\n",
    "nombreArchivo2 = \"secuenciaDescargada2.fasta\"\n",
    "descargar_fasta(nuccoreId2, start2, end2, strand2, nombreArchivo2)\n",
    "\n",
    "# Archivos FASTA para combinar\n",
    "archivoFasta1 = \"secuenciaDescargada1.fasta\"\n",
    "archivoFasta2 = \"secuenciaDescargada2.fasta\"\n",
    "\n",
    "# Nombre del archivo combinado\n",
    "archivoCombinado = \"secuenciasCombinadas.fasta\"\n",
    "\n",
    "# Llamar a la función para combinar los archivos y eliminar los antiguos\n",
    "combinar_archivos(archivoFasta1, archivoFasta2, archivoCombinado)"
   ]
  }
 ],
 "metadata": {
  "kernelspec": {
   "display_name": "Python 3 (ipykernel)",
   "language": "python",
   "name": "python3"
  },
  "language_info": {
   "codemirror_mode": {
    "name": "ipython",
    "version": 3
   },
   "file_extension": ".py",
   "mimetype": "text/x-python",
   "name": "python",
   "nbconvert_exporter": "python",
   "pygments_lexer": "ipython3",
   "version": "3.11.5"
  }
 },
 "nbformat": 4,
 "nbformat_minor": 5
}
