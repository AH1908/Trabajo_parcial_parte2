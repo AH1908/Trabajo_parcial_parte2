{
 "cells": [
  {
   "cell_type": "markdown",
   "id": "2c62c21d-1f92-470b-8dce-a5bb168ad797",
   "metadata": {},
   "source": [
    "### c) Buscar y contar las secuencias: GAATTC"
   ]
  },
  {
   "cell_type": "code",
   "execution_count": 4,
   "id": "3fc78bc1-e5f8-43c1-bc59-25ef7fa761a5",
   "metadata": {},
   "outputs": [
    {
     "name": "stdout",
     "output_type": "stream",
     "text": [
      "                                               sequence  GAATTC_count\n",
      "0     CCCAGAGTGCTCTGCGCCGTGAAGAAGCGGCTCCCGGGGACTGGGG...             0\n",
      "1     AGTAACAAGATGGCGTCGTCCGCGGAGTGACAGGGGTCCCTCTGGG...             0\n",
      "2     GCGGTATCGCCGCCCTAGCTCACCGCGCCCCTTTTCCAGCCCGCGA...             0\n",
      "3     GCGGCCGCCGAGAAACAAGTGGCCCAGCCTGGTAACCGCCGAGAAG...             0\n",
      "4     AAAAGAAACCTGACTGAGCGGCGGTGATCAGGTTCCCCTCTGCTGA...             0\n",
      "...                                                 ...           ...\n",
      "1667  ATAGTGAAACCCTGTCTCTACTAAAAATACAAAAATTAGCCGGGTG...             0\n",
      "1668  GCTTTTCAAGAGGCTGAGGCAGAAGAATCGCTTGAACCCGGGAGAT...             0\n",
      "1669  TGCCACTGCACTCCAGCCTGGGCGTTGCAGTGAGACTCCGTCTCAA...             0\n",
      "1670  TCAAAAGGGCACAGGAGCCACTTGAAGGATTATACTTGCTAAATCT...             0\n",
      "1671                                        TAGCAACGTTA             0\n",
      "\n",
      "[1672 rows x 2 columns]\n",
      "Total 'GAATTC' sequences found: 30\n"
     ]
    }
   ],
   "source": [
    "import pandas as pd\n",
    "import re\n",
    "\n",
    "# Función para cargar el archivo y crear el DataFrame desde la segunda línea\n",
    "def load_data(file_path):\n",
    "    with open(file_path, 'r') as file:\n",
    "        lines = file.readlines()[1:]  # Saltar la primera línea si es un encabezado\n",
    "    sequences = [line.strip() for line in lines if line.strip()]  # Remover líneas vacías y espacios\n",
    "    df = pd.DataFrame(sequences, columns=['sequence'])\n",
    "    return df\n",
    "\n",
    "# Función para contar las ocurrencias de \"GAATTC\" en una secuencia de ADN\n",
    "def count_GAATTC(sequence):\n",
    "    return len(re.findall('GAATTC', sequence))\n",
    "\n",
    "# Cargar el DataFrame desde el archivo gene.fna\n",
    "file_path = 'gene.fna'  # Reemplaza esto con la ruta correcta de tu archivo\n",
    "df = load_data(file_path)\n",
    "\n",
    "# Aplicar la función a la columna de secuencias y sumar los resultados\n",
    "df['GAATTC_count'] = df['sequence'].apply(count_GAATTC)\n",
    "total_GAATTC = df['GAATTC_count'].sum()\n",
    "\n",
    "# Mostrar el DataFrame actualizado y el total de secuencias encontradas\n",
    "print(df)\n",
    "print(f\"Total 'GAATTC' sequences found: {total_GAATTC}\")"
   ]
  },
  {
   "cell_type": "code",
   "execution_count": 5,
   "id": "52ac0237-7da7-4757-bf17-b393aae1b4a9",
   "metadata": {},
   "outputs": [
    {
     "data": {
      "text/plain": [
       "116943"
      ]
     },
     "execution_count": 5,
     "metadata": {},
     "output_type": "execute_result"
    }
   ],
   "source": [
    "import re\n",
    "\n",
    "# Leyendo el archivo\n",
    "data = \"gene.fna\"\n",
    "\n",
    "# Abriendo archivo \n",
    "with open(data,\"r\") as datos:\n",
    "    linea = datos.read()\n",
    "\n",
    "total = ''.join(linea.split('\\n')[1:])\n",
    "len(total)"
   ]
  },
  {
   "cell_type": "code",
   "execution_count": 13,
   "id": "4e2dba4a",
   "metadata": {},
   "outputs": [
    {
     "name": "stdout",
     "output_type": "stream",
     "text": [
      "Cantidad de coincidencias para 'GCC': 1394\n",
      "Cantidad de coincidencias para 'CCG': 334\n",
      "Cantidad total de coincidencias para 'CCG' o 'GCC': 1728\n"
     ]
    }
   ],
   "source": [
    "\n",
    "# Esta línea busca todas las ocurrencias del patrón \"GCC\" en la cadena total. \n",
    "dataG= re.findall(r\"(?=(GCC))\",total)\n",
    "\n",
    "# Esta línea busca todas las ocurrencias del patrón \"CCG\" en la cadena total. \n",
    "dataC = re.findall(r\"(?=(CCG))\",total)\n",
    "\n",
    "# Esta línea busca todas las ocurrencias de los patrones \"CCG\" o \"GCC\" en la cadena total. \n",
    "data1 = re.findall(r\"(?=(CCG|GCC))\",total)\n",
    "\n",
    "print(\"Cantidad de coincidencias para 'GCC':\", len(dataG))\n",
    "print(\"Cantidad de coincidencias para 'CCG':\", len(dataC))\n",
    "print(\"Cantidad total de coincidencias para 'CCG' o 'GCC':\", len(data1))"
   ]
  },
  {
   "cell_type": "code",
   "execution_count": null,
   "id": "a24195b5",
   "metadata": {},
   "outputs": [],
   "source": []
  }
 ],
 "metadata": {
  "kernelspec": {
   "display_name": "Python 3 (ipykernel)",
   "language": "python",
   "name": "python3"
  },
  "language_info": {
   "codemirror_mode": {
    "name": "ipython",
    "version": 3
   },
   "file_extension": ".py",
   "mimetype": "text/x-python",
   "name": "python",
   "nbconvert_exporter": "python",
   "pygments_lexer": "ipython3",
   "version": "3.11.5"
  }
 },
 "nbformat": 4,
 "nbformat_minor": 5
}
