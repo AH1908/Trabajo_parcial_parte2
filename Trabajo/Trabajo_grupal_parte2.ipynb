{
 "cells": [
  {
   "cell_type": "markdown",
   "id": "7004e1ee",
   "metadata": {},
   "source": [
    "## Pregunta b\n",
    "Tomando secuencias de tres nucleóticos de ventana determine el número de CCG o GCC que se encuentran en la secuencia.\n"
   ]
  },
  {
   "cell_type": "code",
   "execution_count": 3,
   "id": "bd9c8772",
   "metadata": {},
   "outputs": [],
   "source": [
    "import re\n",
    "\n",
    "archivob = \"gene.fna\""
   ]
  },
  {
   "cell_type": "code",
   "execution_count": 4,
   "id": "7422ee48",
   "metadata": {},
   "outputs": [],
   "source": [
    "contadorb = 0\n",
    "\n",
    "with open(archivob,\"r\")as datos:\n",
    "    for linea in datos:\n",
    "        trama1 = linea.strip()\n",
    "        accion1 = re.findall(r\"CCG|GCC\",trama1)\n",
    "        contadorb += len(accion1)"
   ]
  },
  {
   "cell_type": "code",
   "execution_count": null,
   "id": "d3843f05",
   "metadata": {},
   "outputs": [],
   "source": []
  }
 ],
 "metadata": {
  "kernelspec": {
   "display_name": "Python 3 (ipykernel)",
   "language": "python",
   "name": "python3"
  },
  "language_info": {
   "codemirror_mode": {
    "name": "ipython",
    "version": 3
   },
   "file_extension": ".py",
   "mimetype": "text/x-python",
   "name": "python",
   "nbconvert_exporter": "python",
   "pygments_lexer": "ipython3",
   "version": "3.11.5"
  }
 },
 "nbformat": 4,
 "nbformat_minor": 5
}
