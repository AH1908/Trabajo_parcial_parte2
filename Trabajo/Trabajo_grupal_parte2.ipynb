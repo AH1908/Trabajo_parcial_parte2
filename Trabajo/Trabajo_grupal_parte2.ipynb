{
 "cells": [
  {
   "cell_type": "code",
   "execution_count": 1,
   "id": "23510d91-ed3b-468f-9ef5-80f64de68d5f",
   "metadata": {},
   "outputs": [
    {
     "name": "stdout",
     "output_type": "stream",
     "text": [
      "Defaulting to user installation because normal site-packages is not writeable\n",
      "Collecting biopython\n",
      "  Downloading biopython-1.83-cp311-cp311-win_amd64.whl.metadata (13 kB)\n",
      "Requirement already satisfied: numpy in c:\\programdata\\anaconda3\\lib\\site-packages (from biopython) (1.26.4)\n",
      "Downloading biopython-1.83-cp311-cp311-win_amd64.whl (2.7 MB)\n",
      "   ---------------------------------------- 0.0/2.7 MB ? eta -:--:--\n",
      "   ---------------------------------------- 0.0/2.7 MB ? eta -:--:--\n",
      "   ---------------------------------------- 0.0/2.7 MB 330.3 kB/s eta 0:00:09\n",
      "   - -------------------------------------- 0.1/2.7 MB 491.5 kB/s eta 0:00:06\n",
      "   -- ------------------------------------- 0.1/2.7 MB 853.3 kB/s eta 0:00:04\n",
      "   --- ------------------------------------ 0.2/2.7 MB 1.1 MB/s eta 0:00:03\n",
      "   ---- ----------------------------------- 0.3/2.7 MB 1.1 MB/s eta 0:00:03\n",
      "   ----- ---------------------------------- 0.4/2.7 MB 1.1 MB/s eta 0:00:03\n",
      "   ------ --------------------------------- 0.4/2.7 MB 1.3 MB/s eta 0:00:02\n",
      "   -------- ------------------------------- 0.6/2.7 MB 1.4 MB/s eta 0:00:02\n",
      "   -------- ------------------------------- 0.6/2.7 MB 1.5 MB/s eta 0:00:02\n",
      "   ---------- ----------------------------- 0.7/2.7 MB 1.4 MB/s eta 0:00:02\n",
      "   ------------ --------------------------- 0.8/2.7 MB 1.5 MB/s eta 0:00:02\n",
      "   ------------- -------------------------- 0.9/2.7 MB 1.5 MB/s eta 0:00:02\n",
      "   --------------- ------------------------ 1.0/2.7 MB 1.6 MB/s eta 0:00:02\n",
      "   ---------------- ----------------------- 1.1/2.7 MB 1.6 MB/s eta 0:00:01\n",
      "   ------------------ --------------------- 1.3/2.7 MB 1.7 MB/s eta 0:00:01\n",
      "   -------------------- ------------------- 1.4/2.7 MB 1.8 MB/s eta 0:00:01\n",
      "   ---------------------- ----------------- 1.5/2.7 MB 1.9 MB/s eta 0:00:01\n",
      "   ------------------------ --------------- 1.6/2.7 MB 1.9 MB/s eta 0:00:01\n",
      "   -------------------------- ------------- 1.8/2.7 MB 1.9 MB/s eta 0:00:01\n",
      "   -------------------------- ------------- 1.8/2.7 MB 1.9 MB/s eta 0:00:01\n",
      "   ---------------------------- ----------- 1.9/2.7 MB 1.9 MB/s eta 0:00:01\n",
      "   ----------------------------- ---------- 2.0/2.7 MB 1.9 MB/s eta 0:00:01\n",
      "   ------------------------------- -------- 2.2/2.7 MB 1.9 MB/s eta 0:00:01\n",
      "   --------------------------------- ------ 2.3/2.7 MB 2.0 MB/s eta 0:00:01\n",
      "   ----------------------------------- ---- 2.4/2.7 MB 2.1 MB/s eta 0:00:01\n",
      "   ------------------------------------- -- 2.5/2.7 MB 2.0 MB/s eta 0:00:01\n",
      "   ---------------------------------------  2.7/2.7 MB 2.1 MB/s eta 0:00:01\n",
      "   ---------------------------------------- 2.7/2.7 MB 2.1 MB/s eta 0:00:00\n",
      "Installing collected packages: biopython\n",
      "Successfully installed biopython-1.83\n"
     ]
    }
   ],
   "source": [
    "!pip install biopython"
   ]
  },
  {
   "cell_type": "code",
   "execution_count": null,
   "id": "c5f345a2-2f5b-4a35-9dc2-25cd4f1d9eeb",
   "metadata": {},
   "outputs": [],
   "source": []
  }
 ],
 "metadata": {
  "kernelspec": {
   "display_name": "Python 3 (ipykernel)",
   "language": "python",
   "name": "python3"
  },
  "language_info": {
   "codemirror_mode": {
    "name": "ipython",
    "version": 3
   },
   "file_extension": ".py",
   "mimetype": "text/x-python",
   "name": "python",
   "nbconvert_exporter": "python",
   "pygments_lexer": "ipython3",
   "version": "3.11.7"
  }
 },
 "nbformat": 4,
 "nbformat_minor": 5
}
