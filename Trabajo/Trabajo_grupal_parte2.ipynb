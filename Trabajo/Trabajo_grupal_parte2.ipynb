{
 "cells": [
  {
   "cell_type": "code",
   "execution_count": 1,
   "id": "23510d91-ed3b-468f-9ef5-80f64de68d5f",
   "metadata": {},
   "outputs": [
    {
     "name": "stdout",
     "output_type": "stream",
     "text": [
      "Defaulting to user installation because normal site-packages is not writeable\n",
      "Collecting biopython\n",
      "  Downloading biopython-1.83-cp311-cp311-win_amd64.whl.metadata (13 kB)\n",
      "Requirement already satisfied: numpy in c:\\programdata\\anaconda3\\lib\\site-packages (from biopython) (1.26.4)\n",
      "Downloading biopython-1.83-cp311-cp311-win_amd64.whl (2.7 MB)\n",
      "   ---------------------------------------- 0.0/2.7 MB ? eta -:--:--\n",
      "   ---------------------------------------- 0.0/2.7 MB ? eta -:--:--\n",
      "   ---------------------------------------- 0.0/2.7 MB 330.3 kB/s eta 0:00:09\n",
      "   - -------------------------------------- 0.1/2.7 MB 491.5 kB/s eta 0:00:06\n",
      "   -- ------------------------------------- 0.1/2.7 MB 853.3 kB/s eta 0:00:04\n",
      "   --- ------------------------------------ 0.2/2.7 MB 1.1 MB/s eta 0:00:03\n",
      "   ---- ----------------------------------- 0.3/2.7 MB 1.1 MB/s eta 0:00:03\n",
      "   ----- ---------------------------------- 0.4/2.7 MB 1.1 MB/s eta 0:00:03\n",
      "   ------ --------------------------------- 0.4/2.7 MB 1.3 MB/s eta 0:00:02\n",
      "   -------- ------------------------------- 0.6/2.7 MB 1.4 MB/s eta 0:00:02\n",
      "   -------- ------------------------------- 0.6/2.7 MB 1.5 MB/s eta 0:00:02\n",
      "   ---------- ----------------------------- 0.7/2.7 MB 1.4 MB/s eta 0:00:02\n",
      "   ------------ --------------------------- 0.8/2.7 MB 1.5 MB/s eta 0:00:02\n",
      "   ------------- -------------------------- 0.9/2.7 MB 1.5 MB/s eta 0:00:02\n",
      "   --------------- ------------------------ 1.0/2.7 MB 1.6 MB/s eta 0:00:02\n",
      "   ---------------- ----------------------- 1.1/2.7 MB 1.6 MB/s eta 0:00:01\n",
      "   ------------------ --------------------- 1.3/2.7 MB 1.7 MB/s eta 0:00:01\n",
      "   -------------------- ------------------- 1.4/2.7 MB 1.8 MB/s eta 0:00:01\n",
      "   ---------------------- ----------------- 1.5/2.7 MB 1.9 MB/s eta 0:00:01\n",
      "   ------------------------ --------------- 1.6/2.7 MB 1.9 MB/s eta 0:00:01\n",
      "   -------------------------- ------------- 1.8/2.7 MB 1.9 MB/s eta 0:00:01\n",
      "   -------------------------- ------------- 1.8/2.7 MB 1.9 MB/s eta 0:00:01\n",
      "   ---------------------------- ----------- 1.9/2.7 MB 1.9 MB/s eta 0:00:01\n",
      "   ----------------------------- ---------- 2.0/2.7 MB 1.9 MB/s eta 0:00:01\n",
      "   ------------------------------- -------- 2.2/2.7 MB 1.9 MB/s eta 0:00:01\n",
      "   --------------------------------- ------ 2.3/2.7 MB 2.0 MB/s eta 0:00:01\n",
      "   ----------------------------------- ---- 2.4/2.7 MB 2.1 MB/s eta 0:00:01\n",
      "   ------------------------------------- -- 2.5/2.7 MB 2.0 MB/s eta 0:00:01\n",
      "   ---------------------------------------  2.7/2.7 MB 2.1 MB/s eta 0:00:01\n",
      "   ---------------------------------------- 2.7/2.7 MB 2.1 MB/s eta 0:00:00\n",
      "Installing collected packages: biopython\n",
      "Successfully installed biopython-1.83\n"
     ]
    }
   ],
   "source": [
    "!pip install biopython"
   ]
  },
  {
   "cell_type": "code",
   "execution_count": 5,
   "id": "c5f345a2-2f5b-4a35-9dc2-25cd4f1d9eeb",
   "metadata": {},
   "outputs": [],
   "source": [
    "# Importar las bibliotecas necesarias\n",
    "from Bio import SeqIO\n",
    "import pandas as pd"
   ]
  },
  {
   "cell_type": "code",
   "execution_count": 6,
   "id": "d3eea897-6a4a-42da-9029-e53a48fc8358",
   "metadata": {},
   "outputs": [],
   "source": [
    "# Reemplaza 'gene.fna' con la ruta a tu archivo .fna\n",
    "file_path = 'gene.fna'"
   ]
  },
  {
   "cell_type": "code",
   "execution_count": 8,
   "id": "d4c2ddec-bc05-486c-9c7b-85566438386c",
   "metadata": {},
   "outputs": [
    {
     "name": "stdout",
     "output_type": "stream",
     "text": [
      "                                  ID  \\\n",
      "0  NC_000005.10:c149551439-149492982   \n",
      "1   NC_060929.1:c150086185-150027795   \n",
      "\n",
      "                                            Sequence  \n",
      "0  CCCAGAGTGCTCTGCGCCGTGAAGAAGCGGCTCCCGGGGACTGGGG...  \n",
      "1  CCCAGAGTGCTCTGCGCCGTGAAGAAGCGGCTCCCGGGGACTGGGG...  \n"
     ]
    }
   ],
   "source": [
    "# Leer y almacenar las secuencias en un DataFrame de pandas\n",
    "sequences = []\n",
    "for record in SeqIO.parse(file_path, \"fasta\"):\n",
    "    sequences.append([record.id, str(record.seq)])\n",
    "\n",
    "df = pd.DataFrame(sequences, columns=[\"ID\", \"Sequence\"])\n",
    "# Mostrar las primeras filas del DataFrame\n",
    "print(df.head())"
   ]
  },
  {
   "cell_type": "code",
   "execution_count": 12,
   "id": "09656eed-e1c4-415d-915d-c482557c50cc",
   "metadata": {},
   "outputs": [
    {
     "data": {
      "text/html": [
       "<div>\n",
       "<style scoped>\n",
       "    .dataframe tbody tr th:only-of-type {\n",
       "        vertical-align: middle;\n",
       "    }\n",
       "\n",
       "    .dataframe tbody tr th {\n",
       "        vertical-align: top;\n",
       "    }\n",
       "\n",
       "    .dataframe thead th {\n",
       "        text-align: right;\n",
       "    }\n",
       "</style>\n",
       "<table border=\"1\" class=\"dataframe\">\n",
       "  <thead>\n",
       "    <tr style=\"text-align: right;\">\n",
       "      <th></th>\n",
       "      <th>id</th>\n",
       "      <th>description</th>\n",
       "      <th>sequence</th>\n",
       "    </tr>\n",
       "  </thead>\n",
       "  <tbody>\n",
       "    <tr>\n",
       "      <th>0</th>\n",
       "      <td>NC_000005.10:c149551439-149492982</td>\n",
       "      <td>NC_000005.10:c149551439-149492982 CSNK1A1 [org...</td>\n",
       "      <td>CCCAGAGTGCTCTGCGCCGTGAAGAAGCGGCTCCCGGGGACTGGGG...</td>\n",
       "    </tr>\n",
       "    <tr>\n",
       "      <th>1</th>\n",
       "      <td>NC_060929.1:c150086185-150027795</td>\n",
       "      <td>NC_060929.1:c150086185-150027795 CSNK1A1 [orga...</td>\n",
       "      <td>CCCAGAGTGCTCTGCGCCGTGAAGAAGCGGCTCCCGGGGACTGGGG...</td>\n",
       "    </tr>\n",
       "  </tbody>\n",
       "</table>\n",
       "</div>"
      ],
      "text/plain": [
       "                                  id  \\\n",
       "0  NC_000005.10:c149551439-149492982   \n",
       "1   NC_060929.1:c150086185-150027795   \n",
       "\n",
       "                                         description  \\\n",
       "0  NC_000005.10:c149551439-149492982 CSNK1A1 [org...   \n",
       "1  NC_060929.1:c150086185-150027795 CSNK1A1 [orga...   \n",
       "\n",
       "                                            sequence  \n",
       "0  CCCAGAGTGCTCTGCGCCGTGAAGAAGCGGCTCCCGGGGACTGGGG...  \n",
       "1  CCCAGAGTGCTCTGCGCCGTGAAGAAGCGGCTCCCGGGGACTGGGG...  "
      ]
     },
     "execution_count": 12,
     "metadata": {},
     "output_type": "execute_result"
    }
   ],
   "source": [
    "# Leer el archivo gene.fna\n",
    "df = pd.DataFrame(data)\n",
    "df"
   ]
  },
  {
   "cell_type": "code",
   "execution_count": 16,
   "id": "0ac23e9c-72a7-42f1-95b5-b553488b332a",
   "metadata": {},
   "outputs": [
    {
     "data": {
      "text/html": [
       "<div>\n",
       "<style scoped>\n",
       "    .dataframe tbody tr th:only-of-type {\n",
       "        vertical-align: middle;\n",
       "    }\n",
       "\n",
       "    .dataframe tbody tr th {\n",
       "        vertical-align: top;\n",
       "    }\n",
       "\n",
       "    .dataframe thead th {\n",
       "        text-align: right;\n",
       "    }\n",
       "</style>\n",
       "<table border=\"1\" class=\"dataframe\">\n",
       "  <thead>\n",
       "    <tr style=\"text-align: right;\">\n",
       "      <th></th>\n",
       "      <th>id</th>\n",
       "      <th>description</th>\n",
       "      <th>sequence</th>\n",
       "    </tr>\n",
       "  </thead>\n",
       "  <tbody>\n",
       "    <tr>\n",
       "      <th>0</th>\n",
       "      <td>NC_060929.1:c150086185-150027795</td>\n",
       "      <td>NC_060929.1:c150086185-150027795 CSNK1A1 [orga...</td>\n",
       "      <td>CCCAGAGTGCTCTGCGCCGTGAAGAAGCGGCTCCCGGGGACTGGGG...</td>\n",
       "    </tr>\n",
       "  </tbody>\n",
       "</table>\n",
       "</div>"
      ],
      "text/plain": [
       "                                 id  \\\n",
       "0  NC_060929.1:c150086185-150027795   \n",
       "\n",
       "                                         description  \\\n",
       "0  NC_060929.1:c150086185-150027795 CSNK1A1 [orga...   \n",
       "\n",
       "                                            sequence  \n",
       "0  CCCAGAGTGCTCTGCGCCGTGAAGAAGCGGCTCCCGGGGACTGGGG...  "
      ]
     },
     "execution_count": 16,
     "metadata": {},
     "output_type": "execute_result"
    }
   ],
   "source": [
    "df = pd.DataFrame(data)\n",
    "\n",
    "# Eliminar la primera fila (fila 0) del DataFrame\n",
    "da = df.iloc[1:].reset_index(drop=True)\n",
    "\n",
    "# Mostrar las primeras filas del DataFrame\n",
    "da"
   ]
  },
  {
   "cell_type": "markdown",
   "id": "d49c65ad",
   "metadata": {},
   "source": [
    "### Pregunta a\n",
    "El porcentaje de nucleòtidos C o G en toda la secuencia."
   ]
  },
  {
   "cell_type": "code",
   "execution_count": 25,
   "id": "e00678ec",
   "metadata": {},
   "outputs": [],
   "source": [
    "def porcentaje_cg(secuencia):\n",
    "    hallar_cg= re.findall(r'[CG]', secuencia, re.IGNORECASE)\n",
    "    a = len(hallar_cg)\n",
    "    porcentaje_cg = (a / len(secuencia)) * 100\n",
    "    return porcentaje_cg\n"
   ]
  },
  {
   "cell_type": "code",
   "execution_count": 26,
   "id": "119d0cee",
   "metadata": {},
   "outputs": [],
   "source": [
    "with open(data, \"r\") as archivo:\n",
    "    secuencia = archivo.read().strip()"
   ]
  },
  {
   "cell_type": "code",
   "execution_count": null,
   "id": "9edc3db1",
   "metadata": {},
   "outputs": [],
   "source": [
    "p=porcentaje(secuencia)\n",
    "print(f'El porcentaje de nucleótidos C o G en la secuencia es: {p:.2f}%')"
   ]
  },
  {
   "cell_type": "code",
   "execution_count": 29,
   "id": "700d89d6",
   "metadata": {},
   "outputs": [],
   "source": [
    "# si solo se desea saber el porcentaje de C\n",
    "def porcentaje_c(secuencia_c):\n",
    "    hallar_c= re.findall(r'[C]', secuencia_c, re.IGNORECASE)\n",
    "    a = len(hallar_c)\n",
    "    porcentaje_c = (a / len(secuencia_c)) * 100\n",
    "    return porcentaje_c\n"
   ]
  },
  {
   "cell_type": "code",
   "execution_count": 30,
   "id": "189acaa2",
   "metadata": {},
   "outputs": [],
   "source": [
    "with open(data, \"r\") as archivo:\n",
    "    secuencia_c = archivo.read().strip() \n"
   ]
  },
  {
   "cell_type": "code",
   "execution_count": 31,
   "id": "b02b9fc2",
   "metadata": {},
   "outputs": [
    {
     "name": "stdout",
     "output_type": "stream",
     "text": [
      "El porcentaje de nucleótidos C en la secuencia es: 18.27%\n"
     ]
    }
   ],
   "source": [
    "p_c=porcentaje_c(secuencia_c)\n",
    "print(f'El porcentaje de nucleótidos C en la secuencia es: {p_c:.2f}%')"
   ]
  },
  {
   "cell_type": "code",
   "execution_count": 32,
   "id": "2a96ddd9",
   "metadata": {},
   "outputs": [
    {
     "name": "stdout",
     "output_type": "stream",
     "text": [
      "El porcentaje de nucleótidos C en la secuencia es: 20.39%\n"
     ]
    }
   ],
   "source": [
    "# si solo se desea saber el porcentaje de G\n",
    "def porcentaje_g(secuencia_g):\n",
    "    hallar_g= re.findall(r'[G]', secuencia, re.IGNORECASE)\n",
    "    a = len(hallar_g)\n",
    "    porcentaje_g = (a / len(secuencia_g)) * 100\n",
    "    return porcentaje_g\n",
    "with open(data, \"r\") as archivo:\n",
    "    secuencia_g = archivo.read().strip() \n",
    "p_g=porcentaje_g(secuencia_g)\n",
    "print(f'El porcentaje de nucleótidos C en la secuencia es: {p_g:.2f}%')"
   ]
  },
  {
   "cell_type": "markdown",
   "id": "36c5393d",
   "metadata": {},
   "source": [
    "### Pregunta b\n",
    "Tomando secuencias de tres nucleóticos de ventana determine el número de CCG o\n",
    "GCC que se encuentran en la secuencia.\n"
   ]
  },
  {
   "cell_type": "code",
   "execution_count": null,
   "id": "64a712d7",
   "metadata": {},
   "outputs": [],
   "source": [
    "import re\n",
    "\n",
    "# Leyendo el archivo\n",
    "data = \"gene.fna\"\n",
    "\n",
    "# Abriendo archivo \n",
    "with open(data,\"r\") as datos:\n",
    "    linea = datos.read()\n",
    "\n",
    "total = ''.join(linea.split('\\n')[1:])\n",
    "\n",
    "# Esta línea busca todas las ocurrencias del patrón \"GCC\" en la cadena total. \n",
    "dataG= re.findall(r\"(?=(GCC))\",total)\n",
    "\n",
    "# Esta línea busca todas las ocurrencias del patrón \"CCG\" en la cadena total. \n",
    "dataC = re.findall(r\"(?=(CCG))\",total)\n",
    "\n",
    "# Esta línea busca todas las ocurrencias de los patrones \"CCG\" o \"GCC\" en la cadena total. \n",
    "data1 = re.findall(r\"(?=(CCG|GCC))\",total)\n",
    "\n",
    "print(\"Cantidad de coincidencias para 'GCC':\", len(dataG))\n",
    "print(\"Cantidad de coincidencias para 'CCG':\", len(dataC))\n",
    "print(\"Cantidad total de coincidencias para 'CCG' o 'GCC':\", len(data1))"
   ]
  },
  {
   "cell_type": "markdown",
   "id": "2c62c21d-1f92-470b-8dce-a5bb168ad797",
   "metadata": {},
   "source": [
    "### Pregunta c\n",
    "Buscar y contar las secuencias: GAATTC"
   ]
  },
  {
   "cell_type": "code",
   "execution_count": 4,
   "id": "3fc78bc1-e5f8-43c1-bc59-25ef7fa761a5",
   "metadata": {},
   "outputs": [
    {
     "name": "stdout",
     "output_type": "stream",
     "text": [
      "                                               sequence  GAATTC_count\n",
      "0     CCCAGAGTGCTCTGCGCCGTGAAGAAGCGGCTCCCGGGGACTGGGG...             0\n",
      "1     AGTAACAAGATGGCGTCGTCCGCGGAGTGACAGGGGTCCCTCTGGG...             0\n",
      "2     GCGGTATCGCCGCCCTAGCTCACCGCGCCCCTTTTCCAGCCCGCGA...             0\n",
      "3     GCGGCCGCCGAGAAACAAGTGGCCCAGCCTGGTAACCGCCGAGAAG...             0\n",
      "4     AAAAGAAACCTGACTGAGCGGCGGTGATCAGGTTCCCCTCTGCTGA...             0\n",
      "...                                                 ...           ...\n",
      "1667  ATAGTGAAACCCTGTCTCTACTAAAAATACAAAAATTAGCCGGGTG...             0\n",
      "1668  GCTTTTCAAGAGGCTGAGGCAGAAGAATCGCTTGAACCCGGGAGAT...             0\n",
      "1669  TGCCACTGCACTCCAGCCTGGGCGTTGCAGTGAGACTCCGTCTCAA...             0\n",
      "1670  TCAAAAGGGCACAGGAGCCACTTGAAGGATTATACTTGCTAAATCT...             0\n",
      "1671                                        TAGCAACGTTA             0\n",
      "\n",
      "[1672 rows x 2 columns]\n",
      "Total 'GAATTC' sequences found: 30\n"
     ]
    }
   ],
   "source": [
    "import pandas as pd\n",
    "import re\n",
    "\n",
    "# Función para cargar el archivo y crear el DataFrame desde la segunda línea\n",
    "def load_data(file_path):\n",
    "    with open(file_path, 'r') as file:\n",
    "        lines = file.readlines()[1:]  # Saltar la primera línea si es un encabezado\n",
    "    sequences = [line.strip() for line in lines if line.strip()]  # Remover líneas vacías y espacios\n",
    "    df = pd.DataFrame(sequences, columns=['sequence'])\n",
    "    return df\n",
    "\n",
    "# Función para contar las ocurrencias de \"GAATTC\" en una secuencia de ADN\n",
    "def count_GAATTC(sequence):\n",
    "    return len(re.findall('GAATTC', sequence))\n",
    "\n",
    "# Cargar el DataFrame desde el archivo gene.fna\n",
    "file_path = 'gene.fna'  # Reemplaza esto con la ruta correcta de tu archivo\n",
    "df = load_data(file_path)\n",
    "\n",
    "# Aplicar la función a la columna de secuencias y sumar los resultados\n",
    "df['GAATTC_count'] = df['sequence'].apply(count_GAATTC)\n",
    "total_GAATTC = df['GAATTC_count'].sum()\n",
    "\n",
    "# Mostrar el DataFrame actualizado y el total de secuencias encontradas\n",
    "print(df)\n",
    "print(f\"Total 'GAATTC' sequences found: {total_GAATTC}\")"
   ]
  }
 ],
 "metadata": {
  "kernelspec": {
   "display_name": "Python 3 (ipykernel)",
   "language": "python",
   "name": "python3"
  },
  "language_info": {
   "codemirror_mode": {
    "name": "ipython",
    "version": 3
   },
   "file_extension": ".py",
   "mimetype": "text/x-python",
   "name": "python",
   "nbconvert_exporter": "python",
   "pygments_lexer": "ipython3",
   "version": "3.11.5"
  }
 },
 "nbformat": 4,
 "nbformat_minor": 5
}
